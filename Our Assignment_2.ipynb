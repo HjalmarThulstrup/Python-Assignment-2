{
 "cells": [
  {
   "cell_type": "markdown",
   "metadata": {},
   "source": [
    "# Assignment 2: Plottings\n",
    "\n",
    "This assignment is about plotting."
   ]
  },
  {
   "cell_type": "markdown",
   "metadata": {},
   "source": [
    "Create data visualizations comparing different groups of Copenhagen citizens. For example:\n",
    "1. Create a bar plot that shows distribution of german and british citizens in terms of age.\n",
    "2. How many French are there compared to Germans and how are they distributed over various neighbourhoods?\n",
    "3. Create a pie chart showing the 5 major citizen groups of age between 20-65\n",
    "4. (red assignment) Try to add the markers that you get from the GeoJson response exercise 2 to the map.\n",
    "  \n",
    "**Hint**: Make use of https://www.dst.dk/da/Statistik/dokumentation/Times/forebyggelsesregistret/statkode.aspx to find the citizenship category numbers.\n",
    "\n",
    "For exercise 4 make use of:\n",
    "```\n",
    "folium.Marker(\n",
    "[12.578995447902946, 55.713167699503515],\n",
    "popup='some text here'\n",
    ").add_to(map_osm)\n",
    "```\n",
    "and follow the documentation at http://folium.readthedocs.io/en/latest/quickstart.html\n"
   ]
  },
  {
   "cell_type": "markdown",
   "metadata": {},
   "source": [
    "Create a bar plot that shows distribution of german and british citizens in terms of age."
   ]
  },
  {
   "cell_type": "code",
   "execution_count": null,
   "metadata": {},
   "outputs": [],
   "source": [
    "[insert code here]"
   ]
  },
  {
   "cell_type": "markdown",
   "metadata": {},
   "source": [
    "How many French are there compared to Germans and how are they distributed over various neighbourhoods?"
   ]
  },
  {
   "cell_type": "code",
   "execution_count": null,
   "metadata": {},
   "outputs": [],
   "source": [
    "[insert code here]"
   ]
  },
  {
   "cell_type": "markdown",
   "metadata": {},
   "source": [
    "Create a pie chart showing the 5 major citizen groups of age between 20-65"
   ]
  },
  {
   "cell_type": "code",
   "execution_count": null,
   "metadata": {},
   "outputs": [],
   "source": [
    "[insert code here]"
   ]
  },
  {
   "cell_type": "markdown",
   "metadata": {},
   "source": [
    "(red assignment) Try to add the markers that you get from the GeoJson response exercise 2 to the map."
   ]
  },
  {
   "cell_type": "code",
   "execution_count": null,
   "metadata": {},
   "outputs": [],
   "source": [
    "[insert code here]"
   ]
  }
 ],
 "metadata": {
  "kernelspec": {
   "display_name": "Python 3",
   "language": "python",
   "name": "python3"
  },
  "language_info": {
   "codemirror_mode": {
    "name": "ipython",
    "version": 3
   },
   "file_extension": ".py",
   "mimetype": "text/x-python",
   "name": "python",
   "nbconvert_exporter": "python",
   "pygments_lexer": "ipython3",
   "version": "3.7.1"
  }
 },
 "nbformat": 4,
 "nbformat_minor": 2
}
